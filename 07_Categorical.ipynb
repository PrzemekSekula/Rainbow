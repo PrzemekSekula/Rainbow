{
 "cells": [
  {
   "attachments": {},
   "cell_type": "markdown",
   "metadata": {},
   "source": [
    "# Categorical Deep Q-Learning (C-51)\n",
    "---\n",
    "\n",
    "In this algorithm we use a neural network that, instead of estimating the expected state-action value, estimates it's distribution. This network returns the `atom_size` bin histogram with state-action value distribution for each action. We denote the network as $P$ and the distribution as $Z(s, a)$. This implies couple of changes in the algorithm.\n",
    "1) Greedy action is selected as\n",
    "$$a = \\argmax\\limits_{a}\\sum_{i}P(Z(s, a)=z_i)z_i$$\n",
    "In the code the sums of the distributions are returned by forward propagation whereas the distribution can be accessed by `network.dist(state)`\n",
    "\n",
    "2) The learning process looks as follows:\n",
    "- Sample ($state, action, reward, next_state, done$) from the Replay Buffer\n",
    "- For each atom $i' \\in {0, 1, ..., N}$\n",
    "    - Calculate $\\tau z_{i'} \\leftarrow [r + \\gamma z_{i'}]_{z_{min}}^{z_{max}}$\n",
    "    - As this distribution is squeezed (by gamma) and shifted (by reward), interpolate them to the grid point:\n",
    "        - compute lower and upper indexes to know where to cast each histogram bin:\n",
    "            $$b \\leftarrow (\\tau z_{i'} - z_{min}) / \\Delta z$$\n",
    "            $$l \\leftarrow \\lfloor b \\rfloor $$\n",
    "            $$u \\leftarrow \\lceil b \\rceil $$\n",
    "        - Distribute probabilities\n",
    "            $$p_l \\leftarrow p_l + P_{w^-}(Z(s', a')=z_{i'})(u - b)$$\n",
    "            $$p_u \\leftarrow p_u + P_{w^-}(Z(s', a')=z_{i'})(i - l)$$\n",
    "- Calculate the entropy loss:\n",
    "    $$L(w) \\leftarrow -\\sum_i p_i \\log P_w(Z(s, a) = z_i)$$\n",
    "- Update weights:\n",
    "    $$w \\leftarrow w - \\alpha \\nabla_w L(w)$$\n",
    "\n",
    "\n",
    "A very good lecture that helped me to understand this process is available [here](https://www.youtube.com/watch?v=r-Yk6-jagDU).\n",
    "\n",
    "Additionally, interpolating $\\tau z_{i'}$ is a challenging piece of code, if you want to make it tensor-based and computationally effective. I based on the code from [Curt Park](https://github.com/Curt-Park/rainbow-is-all-you-need/blob/master/06.categorical_dqn.ipynb) repositiory, which is also a very good resource to study the rainbow algorithm."
   ]
  },
  {
   "cell_type": "code",
   "execution_count": 1,
   "metadata": {},
   "outputs": [
    {
     "name": "stdout",
     "output_type": "stream",
     "text": [
      "Device: cuda:0\n"
     ]
    }
   ],
   "source": [
    "# Import packages\n",
    "import gym\n",
    "import torch\n",
    "import numpy as np\n",
    "from collections import deque\n",
    "import matplotlib.pyplot as plt\n",
    "%matplotlib inline\n",
    "\n",
    "import config\n",
    "\n",
    "device = torch.device(\"cuda:0\" if torch.cuda.is_available() else \"cpu\")\n",
    "print ('Device:', device)"
   ]
  },
  {
   "cell_type": "markdown",
   "metadata": {},
   "source": []
  },
  {
   "cell_type": "code",
   "execution_count": 2,
   "metadata": {},
   "outputs": [],
   "source": [
    "env = gym.make(config.ENVIRONMENT)"
   ]
  },
  {
   "cell_type": "code",
   "execution_count": 3,
   "metadata": {},
   "outputs": [],
   "source": [
    "from rainbow.categorical_agent import Agent\n",
    "\n",
    "agent = Agent(\n",
    "    state_size=env.observation_space.shape[0], \n",
    "    action_size=env.action_space.n,\n",
    "    buffer_size = int(1e5),\n",
    "    batch_size = 64,\n",
    "    gamma = 0.99,\n",
    "    lr = 5e-4,\n",
    "    update_every = 4, # How often to update the network\n",
    "    device=device,\n",
    "    # PER parameters\n",
    "    per_alpha = 0.2,\n",
    "    per_beta_start = 0.4,\n",
    "    per_beta_frames = 1e5,\n",
    "    per_prior_eps = 1e-6, \n",
    "    # Dueling parameters\n",
    "    clip_grad=10, \n",
    "    #N-step parameters\n",
    "    n_steps = 3, \n",
    "    # Distributional parameters\n",
    "    atom_size=10, # Originally it was 51\n",
    "    v_min=0,\n",
    "    v_max=200,\n",
    "    )\n",
    "\n"
   ]
  },
  {
   "cell_type": "code",
   "execution_count": 4,
   "metadata": {},
   "outputs": [],
   "source": [
    "def train_agent(n_episodes=config.MAX_EPISODES, \n",
    "        max_t=config.MAX_TIMESTEPS, \n",
    "        eps_start=config.EPSILON_START, \n",
    "        eps_end=config.EPSILON_END, \n",
    "        eps_decay=config.EPSILON_DECAY,\n",
    "        expected_reward = config.EXPECTED_REWARD,\n",
    "        update_target_every = 4\n",
    "):\n",
    "    \"\"\"Deep Q-Learning.\n",
    "    Args:\n",
    "        n_episodes (int): maximum number of training episodes\n",
    "        max_t (int): maximum number of timesteps per episode\n",
    "        eps_start (float): starting value of epsilon, for \n",
    "            epsilon-greedy action selection\n",
    "        eps_end (float): minimum value of epsilon\n",
    "        eps_decay (float): decay factor (per episode) \n",
    "            for decreasing epsilon\n",
    "        expected_reward (float): finish when the average score\n",
    "            is greater than this value\n",
    "        upate_target_every (int): how often should the target \n",
    "            network be updated. Default: 1 (per every episode) \n",
    "    Returns:\n",
    "        scores (list): list of scores from each episode\n",
    "    \"\"\"\n",
    "    scores = []                        \n",
    "    scores_window = deque(maxlen=100)  \n",
    "    eps = eps_start                    \n",
    "    for episode in range(1, n_episodes+1):\n",
    "        state, info = env.reset()\n",
    "        score = 0\n",
    "        for t in range(max_t):\n",
    "            \n",
    "            action = agent.act(state, eps)\n",
    "            next_state, reward, done, truncated, info = env.step(action)\n",
    "            \n",
    "            agent.step(state, action, reward, next_state, done)\n",
    "            \n",
    "            state = next_state\n",
    "            score += reward\n",
    "            if done:\n",
    "                break \n",
    "        scores_window.append(score)       \n",
    "        scores.append(score)\n",
    "                \n",
    "        eps = max(eps_end, eps_decay*eps) \n",
    "        \n",
    "        if episode % update_target_every == 0:\n",
    "            agent.target_hard_update()\n",
    "        \n",
    "        mean_score = np.mean(scores_window)\n",
    "        print(f'\\rEpisode {episode}\\tAverage Score: {mean_score:.2f}', end=\"\")\n",
    "        if episode % 100 == 0:\n",
    "            print(f'\\rEpisode {episode}\\tAverage Score: {mean_score:.2f}')\n",
    "            agent.save('checkpoint.pth')\n",
    "        if mean_score >= expected_reward:\n",
    "            print(f'\\nDone in {episode:d} episodes!\\tAverage Score: {mean_score:.2f}')\n",
    "            agent.save('checkpoint.pth')\n",
    "            break\n",
    "    return scores"
   ]
  },
  {
   "attachments": {},
   "cell_type": "markdown",
   "metadata": {},
   "source": [
    "### Train the agent\n"
   ]
  },
  {
   "cell_type": "code",
   "execution_count": 5,
   "metadata": {},
   "outputs": [
    {
     "name": "stdout",
     "output_type": "stream",
     "text": [
      "Episode 100\tAverage Score: 38.48\n",
      "Episode 200\tAverage Score: 130.28\n",
      "Episode 246\tAverage Score: 236.22\n",
      "Done in 246 episodes!\tAverage Score: 236.22\n"
     ]
    },
    {
     "data": {
      "image/png": "[encoded data removed]",
      "text/plain": [
       "<Figure size 432x288 with 1 Axes>"
      ]
     },
     "metadata": {
      "needs_background": "light"
     },
     "output_type": "display_data"
    }
   ],
   "source": [
    "scores = train_agent()\n",
    "\n",
    "# plot the scores\n",
    "fig = plt.figure()\n",
    "ax = fig.add_subplot(111)\n",
    "plt.plot(np.arange(len(scores)), scores)\n",
    "plt.ylabel('Score')\n",
    "plt.xlabel('Episode #')\n",
    "plt.show()"
   ]
  },
  {
   "attachments": {},
   "cell_type": "markdown",
   "metadata": {},
   "source": [
    "### Debuging process\n",
    "\n",
    "Below a snippet of code responsible for a learning step. As this part of code was challenging, I wrapped it up here for debugging & learning purposes. The only purpose of it is to understand what's going on in the algorithm. "
   ]
  },
  {
   "cell_type": "code",
   "execution_count": 6,
   "metadata": {},
   "outputs": [],
   "source": [
    "batch_size = 1\n",
    "\n",
    "experiences = agent.memory.sample(batch_size, 1)\n",
    "\n",
    "states, actions, rewards, next_states, dones, weights, idxes = experiences\n",
    "\n",
    "states = torch.FloatTensor(states).to(device)\n",
    "actions = torch.LongTensor(actions.reshape(-1, 1)).to(device)\n",
    "rewards = torch.FloatTensor(rewards.reshape(-1, 1)).to(device)\n",
    "next_states = torch.FloatTensor(next_states).to(device)\n",
    "dones = torch.FloatTensor(dones.reshape(-1, 1)).to(device)        \n",
    "weights = torch.FloatTensor(weights.reshape(-1, 1)).to(device)  \n",
    "\n",
    "\n",
    "delta_z = float(agent.v_max - agent.v_min) / (agent.atom_size - 1)\n",
    "\n",
    "with torch.no_grad():\n",
    "    next_actions = agent.local_network(next_states).argmax(1, keepdim=True)\n",
    "    next_dist = agent.target_network.dist(next_states)[range(batch_size), next_actions.squeeze(1)]\n",
    "    target_z = rewards + (1 - dones) * agent.gamma * agent.support\n",
    "    target_z = target_z.clamp(min=agent.v_min, max=agent.v_max)\n",
    "    \n",
    "    b = (target_z - agent.v_min) / delta_z\n",
    "    lower = b.floor().long()\n",
    "    upper = b.ceil().long()    \n",
    "    \n",
    "    offset = torch.linspace(\n",
    "        0, \n",
    "        (batch_size - 1) * agent.atom_size, \n",
    "        batch_size\n",
    "        )\\\n",
    "        .long().unsqueeze(1)\\\n",
    "        .expand(batch_size, agent.atom_size)\\\n",
    "        .to(device)\n",
    "    \n",
    "    proj_dist = torch.zeros(next_dist.size(), device=device)      \n",
    "    proj_dist.view(-1).index_add_(\n",
    "        0, \n",
    "        (lower + offset).view(-1), \n",
    "        (next_dist * (upper.float() - b)).view(-1)\n",
    "        )\n",
    "    \n",
    "dist = agent.local_network.dist(states)\n",
    "log_p = torch.log(dist[range(batch_size), actions.squeeze(1)])    \n",
    "elementwise_loss = -(proj_dist * log_p).sum(1)    "
   ]
  },
  {
   "cell_type": "code",
   "execution_count": null,
   "metadata": {},
   "outputs": [],
   "source": []
  }
 ],
 "metadata": {
  "kernelspec": {
   "display_name": "Python 3",
   "language": "python",
   "name": "python3"
  },
  "language_info": {
   "codemirror_mode": {
    "name": "ipython",
    "version": 3
   },
   "file_extension": ".py",
   "mimetype": "text/x-python",
   "name": "python",
   "nbconvert_exporter": "python",
   "pygments_lexer": "ipython3",
   "version": "3.9.12"
  }
 },
 "nbformat": 4,
 "nbformat_minor": 2
}
